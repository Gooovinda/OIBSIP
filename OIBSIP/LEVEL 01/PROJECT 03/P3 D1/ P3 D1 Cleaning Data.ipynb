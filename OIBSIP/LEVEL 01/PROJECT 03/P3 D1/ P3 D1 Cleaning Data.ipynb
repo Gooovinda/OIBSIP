{
 "cells": [
  {
   "cell_type": "code",
   "execution_count": 1,
   "id": "aeaf05db",
   "metadata": {},
   "outputs": [
    {
     "data": {
      "text/html": [
       "<div>\n",
       "<style scoped>\n",
       "    .dataframe tbody tr th:only-of-type {\n",
       "        vertical-align: middle;\n",
       "    }\n",
       "\n",
       "    .dataframe tbody tr th {\n",
       "        vertical-align: top;\n",
       "    }\n",
       "\n",
       "    .dataframe thead th {\n",
       "        text-align: right;\n",
       "    }\n",
       "</style>\n",
       "<table border=\"1\" class=\"dataframe\">\n",
       "  <thead>\n",
       "    <tr style=\"text-align: right;\">\n",
       "      <th></th>\n",
       "      <th>id</th>\n",
       "      <th>name</th>\n",
       "      <th>host_id</th>\n",
       "      <th>host_name</th>\n",
       "      <th>neighbourhood_group</th>\n",
       "      <th>neighbourhood</th>\n",
       "      <th>latitude</th>\n",
       "      <th>longitude</th>\n",
       "      <th>room_type</th>\n",
       "      <th>price</th>\n",
       "      <th>minimum_nights</th>\n",
       "      <th>number_of_reviews</th>\n",
       "      <th>last_review</th>\n",
       "      <th>reviews_per_month</th>\n",
       "      <th>calculated_host_listings_count</th>\n",
       "      <th>availability_365</th>\n",
       "    </tr>\n",
       "  </thead>\n",
       "  <tbody>\n",
       "    <tr>\n",
       "      <th>0</th>\n",
       "      <td>2539</td>\n",
       "      <td>Clean &amp; quiet apt home by the park</td>\n",
       "      <td>2787</td>\n",
       "      <td>John</td>\n",
       "      <td>Brooklyn</td>\n",
       "      <td>Kensington</td>\n",
       "      <td>40.64749</td>\n",
       "      <td>-73.97237</td>\n",
       "      <td>Private room</td>\n",
       "      <td>149</td>\n",
       "      <td>1</td>\n",
       "      <td>9</td>\n",
       "      <td>2018-10-19</td>\n",
       "      <td>0.21</td>\n",
       "      <td>6</td>\n",
       "      <td>365</td>\n",
       "    </tr>\n",
       "    <tr>\n",
       "      <th>1</th>\n",
       "      <td>2595</td>\n",
       "      <td>Skylit Midtown Castle</td>\n",
       "      <td>2845</td>\n",
       "      <td>Jennifer</td>\n",
       "      <td>Manhattan</td>\n",
       "      <td>Midtown</td>\n",
       "      <td>40.75362</td>\n",
       "      <td>-73.98377</td>\n",
       "      <td>Entire home/apt</td>\n",
       "      <td>225</td>\n",
       "      <td>1</td>\n",
       "      <td>45</td>\n",
       "      <td>2019-05-21</td>\n",
       "      <td>0.38</td>\n",
       "      <td>2</td>\n",
       "      <td>355</td>\n",
       "    </tr>\n",
       "    <tr>\n",
       "      <th>2</th>\n",
       "      <td>3647</td>\n",
       "      <td>THE VILLAGE OF HARLEM....NEW YORK !</td>\n",
       "      <td>4632</td>\n",
       "      <td>Elisabeth</td>\n",
       "      <td>Manhattan</td>\n",
       "      <td>Harlem</td>\n",
       "      <td>40.80902</td>\n",
       "      <td>-73.94190</td>\n",
       "      <td>Private room</td>\n",
       "      <td>150</td>\n",
       "      <td>3</td>\n",
       "      <td>0</td>\n",
       "      <td>NaN</td>\n",
       "      <td>NaN</td>\n",
       "      <td>1</td>\n",
       "      <td>365</td>\n",
       "    </tr>\n",
       "    <tr>\n",
       "      <th>3</th>\n",
       "      <td>3831</td>\n",
       "      <td>Cozy Entire Floor of Brownstone</td>\n",
       "      <td>4869</td>\n",
       "      <td>LisaRoxanne</td>\n",
       "      <td>Brooklyn</td>\n",
       "      <td>Clinton Hill</td>\n",
       "      <td>40.68514</td>\n",
       "      <td>-73.95976</td>\n",
       "      <td>Entire home/apt</td>\n",
       "      <td>89</td>\n",
       "      <td>1</td>\n",
       "      <td>270</td>\n",
       "      <td>2019-07-05</td>\n",
       "      <td>4.64</td>\n",
       "      <td>1</td>\n",
       "      <td>194</td>\n",
       "    </tr>\n",
       "    <tr>\n",
       "      <th>4</th>\n",
       "      <td>5022</td>\n",
       "      <td>Entire Apt: Spacious Studio/Loft by central park</td>\n",
       "      <td>7192</td>\n",
       "      <td>Laura</td>\n",
       "      <td>Manhattan</td>\n",
       "      <td>East Harlem</td>\n",
       "      <td>40.79851</td>\n",
       "      <td>-73.94399</td>\n",
       "      <td>Entire home/apt</td>\n",
       "      <td>80</td>\n",
       "      <td>10</td>\n",
       "      <td>9</td>\n",
       "      <td>2018-11-19</td>\n",
       "      <td>0.10</td>\n",
       "      <td>1</td>\n",
       "      <td>0</td>\n",
       "    </tr>\n",
       "  </tbody>\n",
       "</table>\n",
       "</div>"
      ],
      "text/plain": [
       "     id                                              name  host_id  \\\n",
       "0  2539                Clean & quiet apt home by the park     2787   \n",
       "1  2595                             Skylit Midtown Castle     2845   \n",
       "2  3647               THE VILLAGE OF HARLEM....NEW YORK !     4632   \n",
       "3  3831                   Cozy Entire Floor of Brownstone     4869   \n",
       "4  5022  Entire Apt: Spacious Studio/Loft by central park     7192   \n",
       "\n",
       "     host_name neighbourhood_group neighbourhood  latitude  longitude  \\\n",
       "0         John            Brooklyn    Kensington  40.64749  -73.97237   \n",
       "1     Jennifer           Manhattan       Midtown  40.75362  -73.98377   \n",
       "2    Elisabeth           Manhattan        Harlem  40.80902  -73.94190   \n",
       "3  LisaRoxanne            Brooklyn  Clinton Hill  40.68514  -73.95976   \n",
       "4        Laura           Manhattan   East Harlem  40.79851  -73.94399   \n",
       "\n",
       "         room_type  price  minimum_nights  number_of_reviews last_review  \\\n",
       "0     Private room    149               1                  9  2018-10-19   \n",
       "1  Entire home/apt    225               1                 45  2019-05-21   \n",
       "2     Private room    150               3                  0         NaN   \n",
       "3  Entire home/apt     89               1                270  2019-07-05   \n",
       "4  Entire home/apt     80              10                  9  2018-11-19   \n",
       "\n",
       "   reviews_per_month  calculated_host_listings_count  availability_365  \n",
       "0               0.21                               6               365  \n",
       "1               0.38                               2               355  \n",
       "2                NaN                               1               365  \n",
       "3               4.64                               1               194  \n",
       "4               0.10                               1                 0  "
      ]
     },
     "execution_count": 1,
     "metadata": {},
     "output_type": "execute_result"
    }
   ],
   "source": [
    "import pandas as pd\n",
    "\n",
    "# Loading Dataset 1\n",
    "df1 = pd.read_csv(\"AB_NYC_2019.csv\")\n",
    "\n",
    "# Previewing data\n",
    "df1.head()\n"
   ]
  },
  {
   "cell_type": "markdown",
   "id": "106e3c82",
   "metadata": {},
   "source": [
    "#### Dataset 1: AB_NYC_2019.csv\n",
    "\n",
    "* Step 1: Load and Preview the Dataset\n",
    "\n",
    "In this step, I loaded the dataset using `pandas.read_csv()` and previewed the first few rows with `head()`.\n",
    "\n",
    "This gives an initial understanding of the structure, columns, and types of data contained. It helps spot obvious issues such as missing values, typos, or formatting problems early on.\n"
   ]
  },
  {
   "cell_type": "code",
   "execution_count": 2,
   "id": "8b837d24",
   "metadata": {},
   "outputs": [
    {
     "name": "stdout",
     "output_type": "stream",
     "text": [
      "<class 'pandas.core.frame.DataFrame'>\n",
      "RangeIndex: 48895 entries, 0 to 48894\n",
      "Data columns (total 16 columns):\n",
      " #   Column                          Non-Null Count  Dtype  \n",
      "---  ------                          --------------  -----  \n",
      " 0   id                              48895 non-null  int64  \n",
      " 1   name                            48879 non-null  object \n",
      " 2   host_id                         48895 non-null  int64  \n",
      " 3   host_name                       48874 non-null  object \n",
      " 4   neighbourhood_group             48895 non-null  object \n",
      " 5   neighbourhood                   48895 non-null  object \n",
      " 6   latitude                        48895 non-null  float64\n",
      " 7   longitude                       48895 non-null  float64\n",
      " 8   room_type                       48895 non-null  object \n",
      " 9   price                           48895 non-null  int64  \n",
      " 10  minimum_nights                  48895 non-null  int64  \n",
      " 11  number_of_reviews               48895 non-null  int64  \n",
      " 12  last_review                     38843 non-null  object \n",
      " 13  reviews_per_month               38843 non-null  float64\n",
      " 14  calculated_host_listings_count  48895 non-null  int64  \n",
      " 15  availability_365                48895 non-null  int64  \n",
      "dtypes: float64(3), int64(7), object(6)\n",
      "memory usage: 6.0+ MB\n"
     ]
    },
    {
     "data": {
      "text/plain": [
       "id                                    0\n",
       "name                                 16\n",
       "host_id                               0\n",
       "host_name                            21\n",
       "neighbourhood_group                   0\n",
       "neighbourhood                         0\n",
       "latitude                              0\n",
       "longitude                             0\n",
       "room_type                             0\n",
       "price                                 0\n",
       "minimum_nights                        0\n",
       "number_of_reviews                     0\n",
       "last_review                       10052\n",
       "reviews_per_month                 10052\n",
       "calculated_host_listings_count        0\n",
       "availability_365                      0\n",
       "dtype: int64"
      ]
     },
     "execution_count": 2,
     "metadata": {},
     "output_type": "execute_result"
    }
   ],
   "source": [
    "# Check data types and non-null counts\n",
    "df1.info()\n",
    "\n",
    "# Check for missing values\n",
    "df1.isnull().sum()\n"
   ]
  },
  {
   "cell_type": "markdown",
   "id": "f35c6cc3",
   "metadata": {},
   "source": [
    "* Step 2: Check for Missing Values\n",
    "\n",
    "I used `df.info()` and `df.isnull().sum()` to assess data completeness and column data types.\n",
    "\n",
    "* Findings:\n",
    "- `name` is missing in 16 rows\n",
    "- `host_name` is missing in 21 rows\n",
    "- `last_review` and `reviews_per_month` are missing in 10,052 rows — likely because these listings haven't been reviewed yet.\n",
    "\n",
    "This tells me where I need to handle missing values — by either imputing (e.g., fill with 0 or \"Unknown\") or dropping if they're not critical.\n"
   ]
  },
  {
   "cell_type": "code",
   "execution_count": 3,
   "id": "64495f6b",
   "metadata": {},
   "outputs": [],
   "source": [
    "# Check for duplicates\n",
    "df1.duplicated().sum()\n",
    "\n",
    "# Drop duplicates (if any)\n",
    "df1 = df1.drop_duplicates()\n"
   ]
  },
  {
   "cell_type": "markdown",
   "id": "88029536",
   "metadata": {},
   "source": [
    "* Step 3: Remove Duplicates\n",
    "\n",
    "I checked for duplicate rows using `df.duplicated().sum()`, and the result was `0`.\n",
    "\n",
    "This indicates that the dataset contains no exact duplicate entries, so no action was needed for this step.\n"
   ]
  },
  {
   "cell_type": "code",
   "execution_count": 4,
   "id": "d2296218",
   "metadata": {},
   "outputs": [
    {
     "data": {
      "text/plain": [
       "Index(['id', 'name', 'host_id', 'host_name', 'neighbourhood_group',\n",
       "       'neighbourhood', 'latitude', 'longitude', 'room_type', 'price',\n",
       "       'minimum_nights', 'number_of_reviews', 'last_review',\n",
       "       'reviews_per_month', 'calculated_host_listings_count',\n",
       "       'availability_365'],\n",
       "      dtype='object')"
      ]
     },
     "execution_count": 4,
     "metadata": {},
     "output_type": "execute_result"
    }
   ],
   "source": [
    "# Standardize column names: lowercase and replace spaces with underscores\n",
    "df1.columns = df1.columns.str.strip().str.lower().str.replace(' ', '_')\n",
    "\n",
    "# Preview new column names\n",
    "df1.columns\n"
   ]
  },
  {
   "cell_type": "markdown",
   "id": "85cd19a7",
   "metadata": {},
   "source": [
    "* Step 4: Standardize Column Names\n",
    "\n",
    "To maintain consistency and improve code readability, I standardized all column names by:\n",
    "- Converting them to lowercase\n",
    "- Replacing spaces with underscores\n",
    "\n",
    "This makes it easier to access columns programmatically and avoids potential errors during analysis or modeling.\n"
   ]
  },
  {
   "cell_type": "code",
   "execution_count": 5,
   "id": "112b3ca3",
   "metadata": {},
   "outputs": [
    {
     "data": {
      "text/plain": [
       "dtype('<M8[ns]')"
      ]
     },
     "execution_count": 5,
     "metadata": {},
     "output_type": "execute_result"
    }
   ],
   "source": [
    "# Convert last_review to datetime\n",
    "df1['last_review'] = pd.to_datetime(df1['last_review'], errors='coerce')\n",
    "\n",
    "# Confirm the change\n",
    "df1.dtypes['last_review']\n"
   ]
  },
  {
   "cell_type": "markdown",
   "id": "94799f72",
   "metadata": {},
   "source": [
    "* Step 5: Handle Data Types\n",
    "\n",
    "I converted the `last_review` column from object (string) to datetime using `pd.to_datetime()`.\n",
    "\n",
    "This allows for better date-based analysis later (e.g., calculating time since last review).  \n",
    "The `errors='coerce'` argument ensures that any invalid date formats are set as NaT (Not a Time).\n"
   ]
  },
  {
   "cell_type": "code",
   "execution_count": 6,
   "id": "da9d098b",
   "metadata": {},
   "outputs": [],
   "source": [
    "# Fill missing names and host names with 'Unknown'\n",
    "df1['name'] = df1['name'].fillna('Unknown')\n",
    "df1['host_name'] = df1['host_name'].fillna('Unknown')\n",
    "\n",
    "# Fill missing reviews_per_month with 0 (since those listings have no reviews)\n",
    "df1['reviews_per_month'] = df1['reviews_per_month'].fillna(0)\n",
    "\n",
    "# last_review can stay as NaT (already handled in datetime step)\n"
   ]
  },
  {
   "cell_type": "markdown",
   "id": "8fc7c8fa",
   "metadata": {},
   "source": [
    "* Step 6: Handle Missing Values and Inconsistencies\n",
    "\n",
    "To ensure the dataset is clean and usable, I addressed missing values as follows:\n",
    "- Filled missing `name` and `host_name` entries with `\"Unknown\"` to retain the records\n",
    "- Replaced missing `reviews_per_month` values with `0`, assuming no reviews were made\n",
    "- `last_review` values remain as `NaT` where missing, which is appropriate for datetime analysis\n",
    "\n",
    "This preserves the dataset size while improving consistency.\n"
   ]
  },
  {
   "cell_type": "code",
   "execution_count": 7,
   "id": "ca42490d",
   "metadata": {},
   "outputs": [
    {
     "data": {
      "image/png": "[encoded data removed]",
      "text/plain": [
       "<Figure size 1000x400 with 1 Axes>"
      ]
     },
     "metadata": {},
     "output_type": "display_data"
    },
    {
     "data": {
      "image/png": "[encoded data removed]",
      "text/plain": [
       "<Figure size 1000x400 with 1 Axes>"
      ]
     },
     "metadata": {},
     "output_type": "display_data"
    }
   ],
   "source": [
    "import matplotlib.pyplot as plt\n",
    "import seaborn as sns\n",
    "\n",
    "# Plot distribution of price\n",
    "plt.figure(figsize=(10, 4))\n",
    "sns.boxplot(x=df1['price'])\n",
    "plt.title('Boxplot of Price')\n",
    "plt.show()\n",
    "\n",
    "# Plot distribution of minimum_nights\n",
    "plt.figure(figsize=(10, 4))\n",
    "sns.boxplot(x=df1['minimum_nights'])\n",
    "plt.title('Boxplot of Minimum Nights')\n",
    "plt.show()\n"
   ]
  },
  {
   "cell_type": "code",
   "execution_count": 8,
   "id": "cff3f59f",
   "metadata": {},
   "outputs": [],
   "source": [
    "# Remove outliers based on practical limits\n",
    "df1 = df1[df1['price'] <= 1000]  # remove listings with very high price\n",
    "df1 = df1[df1['minimum_nights'] <= 365]  # remove listings with excessive stay length\n"
   ]
  },
  {
   "cell_type": "markdown",
   "id": "2ddf0631",
   "metadata": {},
   "source": [
    "* Step 7: Detect and Handle Outliers\n",
    "\n",
    "I used boxplots to visualize outliers in key numerical columns like `price` and `minimum_nights`.\n",
    "\n",
    "**Actions taken:**\n",
    "- Removed listings with `price` greater than $1000 (likely not realistic for typical rentals)\n",
    "- Removed listings with `minimum_nights` over 365 (likely errors or long-term stays)\n",
    "\n",
    "This step improves the reliability of insights and model performance by reducing skewness caused by extreme values.\n"
   ]
  },
  {
   "cell_type": "code",
   "execution_count": 9,
   "id": "bc4dbb88",
   "metadata": {},
   "outputs": [],
   "source": [
    "# Save cleaned dataset to CSV\n",
    "df1.to_csv('AB_NYC_2019_Cleaned.csv', index=False)\n"
   ]
  },
  {
   "cell_type": "markdown",
   "id": "d0caacc4",
   "metadata": {},
   "source": [
    "* Step 8: Export the Cleaned Dataset\n",
    "\n",
    "After completing all cleaning steps — handling missing values, removing duplicates, standardizing columns, and eliminating outliers — I saved the cleaned dataset as `AB_NYC_2019_Cleaned.csv`.\n",
    "\n",
    "This cleaned file is now ready for further analysis, visualization, or machine learning tasks.\n"
   ]
  },
  {
   "cell_type": "code",
   "execution_count": 10,
   "id": "85e08310",
   "metadata": {},
   "outputs": [
    {
     "data": {
      "text/plain": [
       "'C:\\\\Users\\\\govin\\\\OASIS INTERSHIP\\\\PROJECT 03\\\\P3 D1'"
      ]
     },
     "execution_count": 10,
     "metadata": {},
     "output_type": "execute_result"
    }
   ],
   "source": [
    "import os\n",
    "os.getcwd()\n"
   ]
  },
  {
   "cell_type": "code",
   "execution_count": null,
   "id": "33bedf88",
   "metadata": {},
   "outputs": [],
   "source": []
  }
 ],
 "metadata": {
  "kernelspec": {
   "display_name": "Python 3 (ipykernel)",
   "language": "python",
   "name": "python3"
  },
  "language_info": {
   "codemirror_mode": {
    "name": "ipython",
    "version": 3
   },
   "file_extension": ".py",
   "mimetype": "text/x-python",
   "name": "python",
   "nbconvert_exporter": "python",
   "pygments_lexer": "ipython3",
   "version": "3.10.9"
  }
 },
 "nbformat": 4,
 "nbformat_minor": 5
}
